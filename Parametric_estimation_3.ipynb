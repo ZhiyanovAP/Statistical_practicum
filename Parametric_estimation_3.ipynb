{
 "cells": [
  {
   "cell_type": "code",
   "execution_count": 9,
   "metadata": {},
   "outputs": [],
   "source": [
    "import numpy as np\n",
    "from math import log"
   ]
  },
  {
   "cell_type": "code",
   "execution_count": 10,
   "metadata": {},
   "outputs": [],
   "source": [
    "#3.1\n",
    "N = 498\n",
    "data = np.loadtxt(\"Dice.txt\", dtype=int)\n",
    "\n",
    "\n",
    "for i in range(data.shape[0]):\n",
    "    data[i] = min(data[i]), max(data[i])\n",
    "    if (data[i][1] == 0):\n",
    "        data[i] = [-1, -1]\n",
    "    if (data[i][0] > 0 and data[i][0] < 6):\n",
    "        data[i][0] = 1\n",
    "    if (data[i][1] > 0 and data[i][1] < 6):\n",
    "        data[i][1] = 1\n",
    "data = data[data >= 0].reshape((-1, 2))"
   ]
  },
  {
   "cell_type": "code",
   "execution_count": 16,
   "metadata": {},
   "outputs": [],
   "source": [
    "def gen():\n",
    "    if (np.random.rand() < 1 / 6): \n",
    "        if (np.random.rand() < 0.3):\n",
    "            return 6\n",
    "        else:\n",
    "            return np.random.choice([1, 2, 3, 4, 5])\n",
    "    else:\n",
    "        return np.random.choice([1, 2, 3, 4, 5, 6])"
   ]
  },
  {
   "cell_type": "code",
   "execution_count": 34,
   "metadata": {},
   "outputs": [],
   "source": [
    "data = np.zeros((N, 2), dtype=float)\n",
    "for i in range(N):\n",
    "    data[i] = gen(), gen()"
   ]
  },
  {
   "cell_type": "code",
   "execution_count": 35,
   "metadata": {},
   "outputs": [
    {
     "data": {
      "text/plain": [
       "0.21987951807228914"
      ]
     },
     "execution_count": 35,
     "metadata": {},
     "output_type": "execute_result"
    }
   ],
   "source": [
    "np.sum(data == 6) / (2 * N)"
   ]
  },
  {
   "cell_type": "code",
   "execution_count": 36,
   "metadata": {},
   "outputs": [],
   "source": [
    "def conditional_prob(data, params, thet):\n",
    "    prob_arr = np.zeros(data.shape[0], dtype=float)\n",
    "    for i in range(data.shape[0]):\n",
    "        pair = data[i]\n",
    "        param = params[i]\n",
    "        if (pair[0] == 0 and pair[1] == 1):\n",
    "            if (param[1] == 0):\n",
    "                prob_arr[i] = 0\n",
    "            if (param[0] == 0 and param[1] != 6):\n",
    "                prob_arr[i] = (1 / 6) * (1 / 6) * (5 / 6) / (1 / 6 * 5 / 6 + (1 - thet) / 5 * 1 / 6)\n",
    "            if (param[0] == 0 and param[1] == 6):\n",
    "                prob_arr[i] = (1 / 6) * (1 / 6) * (5 / 6) / (1 / 6 *  5 / 6 + (1 - thet) / 5 * 1 / 6)\n",
    "            if (param[0] == 1 and param[1] != 6):\n",
    "                prob_arr[i] = (1 - thet) / 5 * (1 - thet) / 5 * 1 / 6 / (1 / 6 *  5 / 6 + (1 - thet) / 5 * 1 / 6)\n",
    "            if (param[0] == 1 and param[1] == 6):\n",
    "                prob_arr[i] = (1 - thet) / 5 * thet * 1 / 6 / (1 / 6 * 5 / 6 + (1 - thet) / 5 * 1 / 6)\n",
    "        if (pair[0] == 0 and pair[1] == 6):\n",
    "            if (param[1] == 0):\n",
    "                prob_arr[i] = 0\n",
    "            if (param[0] == 0 and param[1] != 6):\n",
    "                prob_arr[i] = (1 / 6) * (1 / 6) * (5 / 6) / (1 / 6 * 5 / 6 + thet * 1 / 6)\n",
    "            if (param[0] == 0 and param[1] == 6):\n",
    "                prob_arr[i] = (1 / 6) * (1 / 6) * (5 / 6) / (1 / 6 * 5 / 6 + thet * 1 / 6)\n",
    "            if (param[0] == 1 and param[1] != 6):\n",
    "                prob_arr[i] = thet * (1 - thet) / 5 * 1 / 6 / (1 / 6 * 5 / 6 + thet * 1 / 6)\n",
    "            if (param[0] == 1 and param[1] == 6):\n",
    "                prob_arr[i] = thet * thet * 1 / 6 / (1 / 6 * 5 / 6 + thet * 1 / 6)\n",
    "        if (pair[0] == 1 and pair[1] == 1):\n",
    "            if (param[1] != 0):\n",
    "                prob_arr[i] = 0\n",
    "            if (param[0] == 0):\n",
    "                prob_arr[i] = (1 / 6) * (1 / 6) * (5 / 6) / (1 / 6 * 1 / 6 *  5 / 6 + (1 - thet) / 5 * (1 - thet) / 5 * 1 / 6)\n",
    "            if (param[0] == 1):\n",
    "                prob_arr[i] = (1 - thet) / 5 * (1 - thet) / 5 * 1 / 6 / (1 / 6 * 1 / 6 *  5 / 6 + (1 - thet) / 5 * (1 - thet) / 5 * 1 / 6)\n",
    "        if (pair[0] == 1 and pair[1] == 6):\n",
    "            if (param[1] != 0):\n",
    "                prob_arr[i] = 0\n",
    "            if (param[0] == 0):\n",
    "                prob_arr[i] = (1 / 6) * (1 / 6) * (5 / 6) / (1 / 6 * 1 / 6 *  5 / 6 + (1 - thet) / 5 * thet * 1 / 6)\n",
    "            if (param[0] == 1):\n",
    "                prob_arr[i] = (1 - thet) / 5 * thet * 1 / 6 / (1 / 6 * 1 / 6 *  5 / 6 + (1 - thet) / 5 * thet * 1 / 6)\n",
    "        if (pair[0] == 6 and pair[1] == 6):\n",
    "            if (param[1] != 0):\n",
    "                prob_arr[i] = 0\n",
    "            if (param[0] == 0):\n",
    "                prob_arr[i] = (1 / 6) * (1 / 6) * (5 / 6) / (1 / 6 * 1 / 6 *  5 / 6 + thet * thet * 1 / 6)\n",
    "            if (param[0] == 1):\n",
    "                prob_arr[i] = thet * thet * 1 / 6 / (1 / 6 * 1 / 6 *  5 / 6 + thet * thet * 1 / 6)\n",
    "        \n",
    "    if (data.shape[0] == 1):\n",
    "        return prob_arr[0]\n",
    "    \n",
    "    return prob_arr"
   ]
  },
  {
   "cell_type": "code",
   "execution_count": 37,
   "metadata": {},
   "outputs": [],
   "source": [
    "def ln_likelyhood(pair, param, thet):\n",
    "    CONST_VALUE = 439687954\n",
    "    prob = 0.\n",
    "    if (pair[0] == 0 and pair[1] == 1):\n",
    "        #Probability of this event is 0\n",
    "        if (param[1] == 0):\n",
    "            return 0\n",
    "        if (param[0] == 0):\n",
    "            prob = (1 / 6) * (1 / 6) * 5 / 6\n",
    "        if (param[0] == 1 and param[1] != 6):\n",
    "            prob = (1 - thet) / 5 * (1 - thet) / 5 * 1 / 6\n",
    "        if (param[0] == 1 and param[1] == 6):\n",
    "            prob = (1 - thet) / 5 * thet * 1 / 6\n",
    "    if (pair[0] == 0 and pair[1] == 6):\n",
    "        #Probability of this event is 0\n",
    "        if (param[1] == 0):\n",
    "            return 0\n",
    "        if (param[0] == 0):\n",
    "            prob = (1 / 6) * (1 / 6) * 5 / 6\n",
    "        if (param[0] == 1 and param[1] != 6):\n",
    "            prob = thet * (1 - thet) / 5 * 1 / 6\n",
    "        if (param[0] == 1 and param[1] == 6):\n",
    "            prob = thet * thet * 1 / 6\n",
    "    if (pair[0] == 1 and pair[1] == 1):\n",
    "        #Probability of this event is 0\n",
    "        if (param[1] != 0):\n",
    "            return 0\n",
    "        if (param[0] == 0):\n",
    "            prob = (1 / 6) * (1 / 6) * 5 / 6\n",
    "        if (param[0] == 1):\n",
    "            prob = (1 - thet) / 5 * (1 - thet) / 5 * 1 / 6\n",
    "    if (pair[0] == 1 and pair[1] == 6):\n",
    "        #Probability of this event is 0\n",
    "        if (param[1] != 0):\n",
    "            return 0\n",
    "        if (param[0] == 0):\n",
    "            prob = (1 / 6) * (1 / 6) * 5 / 6\n",
    "        if (param[0] == 1):\n",
    "            prob = (1 - thet) / 5 * thet * 1 / 6\n",
    "    if (pair[0] == 6 and pair[1] == 6):\n",
    "        #Probability of this event is 0\n",
    "        if (param[1] != 0):\n",
    "            return 0\n",
    "        if (param[0] == 0):\n",
    "            prob = (1 / 6) * (1 / 6) * 5 / 6\n",
    "        if (param[0] == 1):\n",
    "            prob = thet * thet * 1 / 6\n",
    "            \n",
    "    if (prob <= 0):\n",
    "        return CONST_VALUE\n",
    "            \n",
    "    return log(prob)"
   ]
  },
  {
   "cell_type": "code",
   "execution_count": 38,
   "metadata": {},
   "outputs": [],
   "source": [
    "def average(nthet, data, othet):\n",
    "    val = 0.\n",
    "    for i in range(data.shape[0]):\n",
    "        val += conditional_prob(np.array(data[i]).reshape(1, -1),\n",
    "                                   np.array([0, 0]).reshape(1, -1), othet) * ln_likelyhood(data[i], \n",
    "                                                                                   [0, 0], nthet)\n",
    "        val += 5 * conditional_prob(np.array(data[i]).reshape(1, -1),\n",
    "                                   np.array([0, 1]).reshape(1, -1), othet) * ln_likelyhood(data[i], \n",
    "                                                                                   [0, 1], nthet)\n",
    "        val += conditional_prob(np.array(data[i]).reshape(1, -1),\n",
    "                                   np.array([0, 6]).reshape(1, -1), othet) * ln_likelyhood(data[i], \n",
    "                                                                                   [0, 6], nthet)\n",
    "        val += conditional_prob(np.array(data[i]).reshape(1, -1),\n",
    "                                   np.array([1, 0]).reshape(1, -1), othet) * ln_likelyhood(data[i], \n",
    "                                                                                   [1, 0], nthet)\n",
    "        val += 5 * conditional_prob(np.array(data[i]).reshape(1, -1),\n",
    "                                   np.array([1, 1]).reshape(1, -1), othet) * ln_likelyhood(data[i], \n",
    "                                                                                   [1, 1], nthet)\n",
    "        val += conditional_prob(np.array(data[i]).reshape(1, -1),\n",
    "                                   np.array([1, 6]).reshape(1, -1), othet) * ln_likelyhood(data[i], \n",
    "                                                                                   [1, 6], nthet)\n",
    "    return val"
   ]
  },
  {
   "cell_type": "code",
   "execution_count": 39,
   "metadata": {},
   "outputs": [],
   "source": [
    "import scipy.optimize as optimize"
   ]
  },
  {
   "cell_type": "code",
   "execution_count": 41,
   "metadata": {
    "scrolled": true
   },
   "outputs": [
    {
     "name": "stdout",
     "output_type": "stream",
     "text": [
      "[0.1]\n",
      "[0.40220399]\n",
      "[0.8]\n",
      "[0.8]\n",
      "[0.8]\n",
      "[0.8]\n",
      "[0.8]\n",
      "[0.8]\n",
      "[0.8]\n",
      "[0.8]\n",
      "[0.8]\n",
      "[0.8]\n",
      "[0.8]\n",
      "[0.8]\n",
      "[0.8]\n",
      "[0.8]\n",
      "[0.8]\n",
      "[0.8]\n",
      "[0.8]\n",
      "[0.8]\n",
      "[0.8]\n",
      "[0.8]\n",
      "[0.8]\n",
      "[0.8]\n",
      "[0.8]\n",
      "[0.8]\n",
      "[0.8]\n",
      "[0.8]\n",
      "[0.8]\n",
      "[0.8]\n",
      "[0.8]\n",
      "[0.8]\n",
      "[0.8]\n",
      "[0.8]\n",
      "[0.8]\n",
      "[0.8]\n",
      "[0.8]\n",
      "[0.8]\n",
      "[0.8]\n",
      "[0.8]\n",
      "[0.8]\n",
      "[0.8]\n",
      "[0.8]\n",
      "[0.8]\n",
      "[0.8]\n",
      "[0.8]\n",
      "[0.8]\n",
      "[0.8]\n",
      "[0.8]\n",
      "[0.8]\n"
     ]
    }
   ],
   "source": [
    "othet = 1 / 100\n",
    "count_iter = 50\n",
    "left, right = 0.1, 0.8\n",
    "\n",
    "def neg_average(thet):\n",
    "    return -average(thet, data, othet)\n",
    "\n",
    "for i in range(count_iter):\n",
    "    othet = optimize.minimize(neg_average, 0.5, bounds=[(left, right)]).x\n",
    "    print(othet)"
   ]
  },
  {
   "cell_type": "code",
   "execution_count": 8,
   "metadata": {},
   "outputs": [
    {
     "name": "stdout",
     "output_type": "stream",
     "text": [
      "[0.51379655]\n"
     ]
    }
   ],
   "source": [
    "print(othet)"
   ]
  },
  {
   "cell_type": "code",
   "execution_count": 9,
   "metadata": {},
   "outputs": [],
   "source": [
    "#3.2"
   ]
  },
  {
   "cell_type": "code",
   "execution_count": 33,
   "metadata": {},
   "outputs": [],
   "source": [
    "N = 100\n",
    "mid, std = 3, 5\n",
    "data = std * np.random.normal(size=N) + mid"
   ]
  },
  {
   "cell_type": "code",
   "execution_count": 34,
   "metadata": {},
   "outputs": [
    {
     "name": "stdout",
     "output_type": "stream",
     "text": [
      "2.944738937442851 3.6694298877636036  - maximal likelyhood estimation\n",
      "3.7382905232509938 5.0\n"
     ]
    }
   ],
   "source": [
    "#Maximal likelyhood estimation\n",
    "def neg_ln_likelyhood(arg, data):\n",
    "    mid, std = arg\n",
    "    delta = std ** 2\n",
    "    return np.sum(np.log(delta) + (data - mid) ** 2 / (2 * delta))\n",
    "\n",
    "mle_mid, mle_std = optimize.minimize(neg_ln_likelyhood, [mid, std], args = data).x\n",
    "\n",
    "print(mle_mid, mle_std, ' - maximal likelyhood estimation')\n",
    "print(3 * mle_std / mle_mid, 3 * std / mid)"
   ]
  },
  {
   "cell_type": "code",
   "execution_count": 35,
   "metadata": {},
   "outputs": [
    {
     "name": "stdout",
     "output_type": "stream",
     "text": [
      "2.9447384373175236 5.189357268075424  - moments method estimation\n",
      "5.2867418059743985 5.0\n"
     ]
    }
   ],
   "source": [
    "#Moments method estimation\n",
    "mme_mid = np.sum(data) / data.shape[0]\n",
    "mme_std = np.sqrt(np.sum(data ** 2) / data.shape[0] - mme_mid ** 2)\n",
    "\n",
    "print(mme_mid, mme_std, ' - moments method estimation')\n",
    "print(3 * mme_std / mme_mid, 3 * std / mid)"
   ]
  },
  {
   "cell_type": "code",
   "execution_count": 36,
   "metadata": {},
   "outputs": [
    {
     "name": "stdout",
     "output_type": "stream",
     "text": [
      "2.656641914397622 4.446195689593053  - boot maximal likelyhood estimation\n",
      "5.020844923243486 5.0\n"
     ]
    }
   ],
   "source": [
    "#Bootstrap with mle\n",
    "tmp_data = mle_std * np.random.normal(size=N) + mle_mid\n",
    "boot_mle_mid, boot_mle_std = optimize.minimize(\n",
    "    neg_ln_likelyhood, [mid, std], args = tmp_data).x\n",
    "\n",
    "print(2 * mle_mid - boot_mle_mid, \n",
    "      2 * mle_std - boot_mle_std, ' - boot maximal likelyhood estimation')\n",
    "print(3 * (2 * mle_std - boot_mle_std) / (2 * mle_mid - boot_mle_mid),\n",
    "      3 * std / mid)"
   ]
  },
  {
   "cell_type": "code",
   "execution_count": 37,
   "metadata": {},
   "outputs": [
    {
     "name": "stdout",
     "output_type": "stream",
     "text": [
      "3.037775398491568 6.687827206005003  - moments method estimation\n",
      "6.6046626185654445 5.0\n"
     ]
    }
   ],
   "source": [
    "#Bootstrap with mme\n",
    "tmp_data = mle_std * np.random.normal(size=N) + mle_mid\n",
    "\n",
    "boot_mme_mid = np.sum(tmp_data) / tmp_data.shape[0]\n",
    "boot_mme_std = np.sqrt(np.sum(tmp_data ** 2) / tmp_data.shape[0] - boot_mme_mid ** 2)\n",
    "\n",
    "print(2 * mme_mid - boot_mme_mid, \n",
    "      2 * mme_std - boot_mme_std, ' - moments method estimation')\n",
    "print(3 * (2 * mme_std - boot_mme_std) / (2 * mme_mid - boot_mme_mid),\n",
    "      3 * std / mid)"
   ]
  },
  {
   "cell_type": "code",
   "execution_count": null,
   "metadata": {},
   "outputs": [],
   "source": []
  }
 ],
 "metadata": {
  "kernelspec": {
   "display_name": "Python 3",
   "language": "python",
   "name": "python3"
  },
  "language_info": {
   "codemirror_mode": {
    "name": "ipython",
    "version": 3
   },
   "file_extension": ".py",
   "mimetype": "text/x-python",
   "name": "python",
   "nbconvert_exporter": "python",
   "pygments_lexer": "ipython3",
   "version": "3.6.7"
  }
 },
 "nbformat": 4,
 "nbformat_minor": 2
}
