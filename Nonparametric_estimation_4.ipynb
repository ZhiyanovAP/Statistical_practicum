{
 "cells": [
  {
   "cell_type": "code",
   "execution_count": 1,
   "metadata": {},
   "outputs": [],
   "source": [
    "import numpy as np\n",
    "import matplotlib.pyplot as plt \n",
    "import seaborn as sns"
   ]
  },
  {
   "cell_type": "code",
   "execution_count": 2,
   "metadata": {},
   "outputs": [
    {
     "data": {
      "text/plain": [
       "<matplotlib.axes._subplots.AxesSubplot at 0x7f2dc5108978>"
      ]
     },
     "execution_count": 2,
     "metadata": {},
     "output_type": "execute_result"
    },
    {
     "data": {
      "image/png": "[encoded data removed]",
      "text/plain": [
       "<Figure size 432x288 with 1 Axes>"
      ]
     },
     "metadata": {
      "needs_background": "light"
     },
     "output_type": "display_data"
    }
   ],
   "source": [
    "#2\n",
    "N = 100\n",
    "sns.kdeplot(np.random.normal(size=N), shade=True, color='olive')"
   ]
  },
  {
   "cell_type": "code",
   "execution_count": 3,
   "metadata": {},
   "outputs": [],
   "source": [
    "N = 100\n",
    "mixture = [np.random.choice([np.random.normal(0, 1), np.random.normal(6, 1), \n",
    "                             np.random.normal(-3, 1)]) for i in np.arange(N)]"
   ]
  },
  {
   "cell_type": "code",
   "execution_count": 4,
   "metadata": {},
   "outputs": [
    {
     "data": {
      "text/plain": [
       "<matplotlib.axes._subplots.AxesSubplot at 0x7f2dc104fba8>"
      ]
     },
     "execution_count": 4,
     "metadata": {},
     "output_type": "execute_result"
    },
    {
     "data": {
      "image/png": "[encoded data removed]",
      "text/plain": [
       "<Figure size 432x288 with 1 Axes>"
      ]
     },
     "metadata": {
      "needs_background": "light"
     },
     "output_type": "display_data"
    }
   ],
   "source": [
    "sns.kdeplot(mixture, bw = 0.2, shade=True, color='olive')"
   ]
  },
  {
   "cell_type": "code",
   "execution_count": 5,
   "metadata": {},
   "outputs": [],
   "source": [
    "#4\n",
    "N, M = 50, 100\n",
    "X = np.random.rand(N)\n",
    "boots_X = np.array([np.random.choice(X) for i in np.arange(M)])"
   ]
  },
  {
   "cell_type": "code",
   "execution_count": 6,
   "metadata": {},
   "outputs": [
    {
     "name": "stdout",
     "output_type": "stream",
     "text": [
      "0.4797457560068155 0.471464667708833\n",
      "S_2:  0.07794726848285251\n",
      "boots_S_2:  6.857642339898302e-05\n",
      "S_2_N-1:  0.07953802906413521\n"
     ]
    }
   ],
   "source": [
    "mean = X.sum() / N\n",
    "boots_mean = boots_X.sum() / M\n",
    "\n",
    "print(mean, boots_mean)\n",
    "\n",
    "var = (1 / N * ((X - mean)**2).sum())\n",
    "boots_var = (mean - boots_mean)**2\n",
    "\n",
    "print(\"S_2: \", var)\n",
    "print(\"boots_S_2: \", boots_var)\n",
    "print(\"S_2_N-1: \", var * N / (N - 1))"
   ]
  },
  {
   "cell_type": "code",
   "execution_count": 7,
   "metadata": {},
   "outputs": [
    {
     "name": "stdout",
     "output_type": "stream",
     "text": [
      "MED varience:  0.026704684382466846\n"
     ]
    }
   ],
   "source": [
    "sort_X = np.sort(X)\n",
    "med = (sort_X[N // 2] + sort_X[(N + 1)// 2])/ 2\n",
    "\n",
    "sort_boots_X = np.sort(boots_X)\n",
    "boots_med = (sort_boots_X[N // 2] + sort_boots_X[(N + 1)// 2])/ 2\n",
    "\n",
    "print(\"MED varience: \", (boots_med - med)**2)"
   ]
  },
  {
   "cell_type": "code",
   "execution_count": 8,
   "metadata": {},
   "outputs": [],
   "source": [
    "#5\n",
    "N, M = 100, 500\n",
    "X = np.random.normal(size=N)\n",
    "boots_X = np.array([np.random.choice(X) for i in np.arange(M)])"
   ]
  },
  {
   "cell_type": "code",
   "execution_count": 9,
   "metadata": {},
   "outputs": [
    {
     "name": "stdout",
     "output_type": "stream",
     "text": [
      "boots_S_2:  1.1262735862810604\n",
      "S_2 with bootstrap:  1.040625594169518\n",
      "S_2_N-1:  1.09439352548009\n"
     ]
    }
   ],
   "source": [
    "var = 1 / N * ((X - mean)**2).sum()\n",
    "boots_var = 1 / M * ((boots_X - boots_mean)**2).sum()\n",
    "\n",
    "print(\"boots_S_2: \", boots_var)\n",
    "print(\"S_2 with bootstrap: \", 2 * var - boots_var)\n",
    "print(\"S_2_N-1: \", var * N / (N - 1))\n",
    "\n"
   ]
  },
  {
   "cell_type": "code",
   "execution_count": 10,
   "metadata": {},
   "outputs": [],
   "source": [
    "#6 how does work the pivotal method for bootstrap: studentized pivotal"
   ]
  },
  {
   "cell_type": "code",
   "execution_count": 11,
   "metadata": {},
   "outputs": [],
   "source": [
    "#7\n",
    "N = 100\n",
    "X = np.random.rand(N)\n",
    "\n",
    "def empirical_distribution(data, value):\n",
    "    return 1 / data.size * (data < value).sum()"
   ]
  },
  {
   "cell_type": "code",
   "execution_count": 12,
   "metadata": {},
   "outputs": [],
   "source": [
    "gato_var = 1 / N * ((((X < 1 / 3) - 0 - (X < 1 / 4) - 0) - \n",
    "                    (empirical_distribution(X, 1 / 3) - empirical_distribution(X, 1 / 4)))**2).sum() "
   ]
  },
  {
   "cell_type": "code",
   "execution_count": 13,
   "metadata": {},
   "outputs": [],
   "source": [
    "import scipy.stats as st"
   ]
  },
  {
   "cell_type": "code",
   "execution_count": 14,
   "metadata": {},
   "outputs": [
    {
     "name": "stdout",
     "output_type": "stream",
     "text": [
      "( 0.05929200288854593 0.08070799711145409 )\n",
      "The real value:  0.08333333333333331\n"
     ]
    }
   ],
   "source": [
    "quant = st.norm.ppf(0.95)\n",
    "\n",
    "left_border = empirical_distribution(X, 1 / 3) - empirical_distribution(X, 1 / 4) - gato_var * quant / np.sqrt(N)\n",
    "right_border = empirical_distribution(X, 1 / 3) - empirical_distribution(X, 1 / 4) + gato_var * quant / np.sqrt(N)\n",
    "\n",
    "print(\"(\", left_border, right_border, \")\")\n",
    "print(\"The real value: \", 1 / 3 - 1 / 4)"
   ]
  },
  {
   "cell_type": "code",
   "execution_count": 15,
   "metadata": {},
   "outputs": [],
   "source": [
    "#8 i need a help with example 9"
   ]
  },
  {
   "cell_type": "code",
   "execution_count": 2,
   "metadata": {},
   "outputs": [],
   "source": [
    "#4.1\n",
    "data = np.fromfile(\"Math16.txt\", dtype=int, sep=\"\\n\")"
   ]
  },
  {
   "cell_type": "code",
   "execution_count": 17,
   "metadata": {},
   "outputs": [
    {
     "data": {
      "text/plain": [
       "<matplotlib.axes._subplots.AxesSubplot at 0x7f2dc0fc4cf8>"
      ]
     },
     "execution_count": 17,
     "metadata": {},
     "output_type": "execute_result"
    },
    {
     "data": {
      "image/png": "[encoded data removed]",
      "text/plain": [
       "<Figure size 432x288 with 1 Axes>"
      ]
     },
     "metadata": {
      "needs_background": "light"
     },
     "output_type": "display_data"
    }
   ],
   "source": [
    "sns.kdeplot(data, bw = 0.2, shade=True, color='olive')"
   ]
  },
  {
   "cell_type": "code",
   "execution_count": 18,
   "metadata": {},
   "outputs": [
    {
     "data": {
      "text/plain": [
       "<matplotlib.axes._subplots.AxesSubplot at 0x7f2dc0f8eb70>"
      ]
     },
     "execution_count": 18,
     "metadata": {},
     "output_type": "execute_result"
    },
    {
     "data": {
      "image/png": "[encoded data removed]",
      "text/plain": [
       "<Figure size 432x288 with 1 Axes>"
      ]
     },
     "metadata": {
      "needs_background": "light"
     },
     "output_type": "display_data"
    }
   ],
   "source": [
    "sns.kdeplot(data, bw = 0.02, shade=True, color='olive')"
   ]
  },
  {
   "cell_type": "code",
   "execution_count": 19,
   "metadata": {},
   "outputs": [
    {
     "name": "stderr",
     "output_type": "stream",
     "text": [
      "/home/antonzhiyanov/.local/lib/python3.6/site-packages/seaborn/distributions.py:289: UserWarning: Kernel other than `gau` requires statsmodels.\n",
      "  warnings.warn(msg, UserWarning)\n"
     ]
    },
    {
     "data": {
      "text/plain": [
       "<matplotlib.axes._subplots.AxesSubplot at 0x7f2dc0efdef0>"
      ]
     },
     "execution_count": 19,
     "metadata": {},
     "output_type": "execute_result"
    },
    {
     "data": {
      "image/png": "[encoded data removed]",
      "text/plain": [
       "<Figure size 432x288 with 1 Axes>"
      ]
     },
     "metadata": {
      "needs_background": "light"
     },
     "output_type": "display_data"
    }
   ],
   "source": [
    "sns.kdeplot(data, bw = 0.1, shade=True, color='olive', kernel='epa')"
   ]
  },
  {
   "cell_type": "code",
   "execution_count": 20,
   "metadata": {},
   "outputs": [
    {
     "data": {
      "text/plain": [
       "<matplotlib.axes._subplots.AxesSubplot at 0x7f2dc0edb278>"
      ]
     },
     "execution_count": 20,
     "metadata": {},
     "output_type": "execute_result"
    },
    {
     "data": {
      "image/png": "[encoded data removed]",
      "text/plain": [
       "<Figure size 432x288 with 1 Axes>"
      ]
     },
     "metadata": {
      "needs_background": "light"
     },
     "output_type": "display_data"
    }
   ],
   "source": [
    "sns.kdeplot(data, bw = 0.04, shade=True, color='olive', kernel='epa')"
   ]
  },
  {
   "cell_type": "code",
   "execution_count": 21,
   "metadata": {},
   "outputs": [
    {
     "data": {
      "text/plain": [
       "(array([ 18.,  45.,  68., 126., 206., 262., 306., 252., 201.,  90.]),\n",
       " array([201. , 221.6, 242.2, 262.8, 283.4, 304. , 324.6, 345.2, 365.8,\n",
       "        386.4, 407. ]),\n",
       " <a list of 10 Patch objects>)"
      ]
     },
     "execution_count": 21,
     "metadata": {},
     "output_type": "execute_result"
    },
    {
     "data": {
      "image/png": "[encoded data removed]",
      "text/plain": [
       "<Figure size 432x288 with 1 Axes>"
      ]
     },
     "metadata": {
      "needs_background": "light"
     },
     "output_type": "display_data"
    }
   ],
   "source": [
    "plt.hist(data)"
   ]
  },
  {
   "cell_type": "code",
   "execution_count": 22,
   "metadata": {},
   "outputs": [
    {
     "data": {
      "text/plain": [
       "(array([  9.,   9.,  11.,  34.,  25.,  43.,  52.,  74.,  98., 108., 131.,\n",
       "        131., 153., 153., 132., 120., 102.,  99.,  67.,  23.]),\n",
       " array([201. , 211.3, 221.6, 231.9, 242.2, 252.5, 262.8, 273.1, 283.4,\n",
       "        293.7, 304. , 314.3, 324.6, 334.9, 345.2, 355.5, 365.8, 376.1,\n",
       "        386.4, 396.7, 407. ]),\n",
       " <a list of 20 Patch objects>)"
      ]
     },
     "execution_count": 22,
     "metadata": {},
     "output_type": "execute_result"
    },
    {
     "data": {
      "image/png": "[encoded data removed]",
      "text/plain": [
       "<Figure size 432x288 with 1 Axes>"
      ]
     },
     "metadata": {
      "needs_background": "light"
     },
     "output_type": "display_data"
    }
   ],
   "source": [
    "plt.hist(data, bins=20)"
   ]
  },
  {
   "cell_type": "code",
   "execution_count": 23,
   "metadata": {},
   "outputs": [],
   "source": [
    "#4.2"
   ]
  },
  {
   "cell_type": "code",
   "execution_count": 3,
   "metadata": {},
   "outputs": [],
   "source": [
    "#the estimation of the symmetry coeff: $~X^3 - 3*~X^2*~X + 3*~X*(~X)^2 + (~X)^3\n",
    "\n",
    "def sym_coef(data):    \n",
    "    return ((data ** 3).mean(axis=0) - 3 * (data ** 2).mean(axis=0) * data.mean(axis=0) +\n",
    "        3 * (data.mean(axis=0) ** 2) * data.mean(axis=0) - (data.mean(axis=0)) ** 3) / (data.std(axis=0)) ** (3 / 2)"
   ]
  },
  {
   "cell_type": "code",
   "execution_count": 4,
   "metadata": {},
   "outputs": [
    {
     "name": "stdout",
     "output_type": "stream",
     "text": [
      "-109.61037085361063\n"
     ]
    }
   ],
   "source": [
    "print(sym_coef(data))"
   ]
  },
  {
   "cell_type": "code",
   "execution_count": 50,
   "metadata": {},
   "outputs": [],
   "source": [
    "#bootstrap interval\n",
    "#M = count of the sample data\n",
    "N, M = len(data), 1000\n",
    "sample_data = np.random.choice(data, N * M).reshape((N, M))\n",
    "sample_coef_naive = np.sort(sym_coef(sample_data))\n",
    "sample_coef_moved = np.sort(2 * sym_coef(data) - sym_coef(sample_data))\n",
    "\n",
    "alpha = 0.05"
   ]
  },
  {
   "cell_type": "code",
   "execution_count": 51,
   "metadata": {},
   "outputs": [
    {
     "name": "stdout",
     "output_type": "stream",
     "text": [
      "( -129.26373161959623 ,  -89.59209372956707 )\n",
      "( -129.60280997827078 ,  -89.8714345068941 )\n"
     ]
    }
   ],
   "source": [
    "print('(', sample_coef_naive[int(alpha * M)], ', ',\n",
    "      sample_coef_naive[int((1 - alpha) * M)], ')')\n",
    "print('(', sample_coef_moved[int(alpha * M)], ', ',\n",
    "      sample_coef_moved[int((1 - alpha) * M)], ')')"
   ]
  },
  {
   "cell_type": "code",
   "execution_count": 52,
   "metadata": {},
   "outputs": [],
   "source": [
    "Y = np.zeros(M)\n",
    "for i in range(M):\n",
    "    sample_data = np.random.choice(data, N)\n",
    "    std = np.sqrt(((sym_coef(np.random.choice(sample_data, N * M).reshape((N, M))) - sym_coef(sample_data))**2).mean())\n",
    "    Y[i] = (sym_coef(sample_data) - sym_coef(data)) / std\n",
    "\n",
    "Y = np.sort(Y)\n",
    "std_first = np.sqrt(((sym_coef(np.random.choice(data, N * M).reshape((N, M))) - sym_coef(data))**2).mean())"
   ]
  },
  {
   "cell_type": "code",
   "execution_count": 54,
   "metadata": {},
   "outputs": [
    {
     "name": "stdout",
     "output_type": "stream",
     "text": [
      "( -130.191245321505 ,  -90.13694214521277 )\n"
     ]
    }
   ],
   "source": [
    "print('(', sym_coef(data) - (Y[int((1 - alpha) * M)]) * std_first, ', ',\n",
    "      sym_coef(data) - (Y[int((alpha) * M)]) * std_first, ')')"
   ]
  },
  {
   "cell_type": "code",
   "execution_count": 55,
   "metadata": {},
   "outputs": [],
   "source": [
    "def derivation_gato(data, point):\n",
    "    x, X = point, data\n",
    "    dp = (x ** 3 - (X ** 3).mean() - 3 * ((x ** 2 - (X ** 2).mean()) * X.mean() + (X ** 2).mean()*(x - X.mean())) +\n",
    "         3 * ((x - X.mean())*(X.mean())**2 + X.mean()*(2 * X.mean()) * (x - X.mean())) + \n",
    "         3 * (X.mean() ** 2) * (x - X.mean()))\n",
    "    dq = 3 / 2 * (((X ** 2).mean() - X.mean()**2)** (1 / 2)) * (x ** 2 - (X ** 2).mean() - 2 * X.mean() * (x - X.mean()))\n",
    "    \n",
    "    p = ((data ** 3).mean() - 3 * (data ** 2).mean() * data.mean() +\n",
    "        3 * (data.mean() ** 2) * data.mean() - (data.mean()) ** 3)\n",
    "    q = data.std() ** (3 / 2)\n",
    "    \n",
    "    return (dp * q - p * dq) / (q ** 2)"
   ]
  },
  {
   "cell_type": "code",
   "execution_count": 34,
   "metadata": {},
   "outputs": [],
   "source": [
    "sum_squared_dev = sum(list(map(lambda x: derivation_gato(data, x) ** 2, data))) / N"
   ]
  },
  {
   "cell_type": "code",
   "execution_count": 35,
   "metadata": {},
   "outputs": [
    {
     "name": "stdout",
     "output_type": "stream",
     "text": [
      "9377885156.935183 -109.61037085361063\n"
     ]
    }
   ],
   "source": [
    "print(sum_squared_dev, sym_coef(data))"
   ]
  },
  {
   "cell_type": "code",
   "execution_count": 36,
   "metadata": {},
   "outputs": [],
   "source": [
    "from scipy.stats import norm"
   ]
  },
  {
   "cell_type": "code",
   "execution_count": 37,
   "metadata": {},
   "outputs": [
    {
     "name": "stdout",
     "output_type": "stream",
     "text": [
      "( -15425248523.129581   15425248303.90884 )\n"
     ]
    }
   ],
   "source": [
    "print('(', sym_coef(data) - sum_squared_dev * norm.ppf(0.95),\n",
    "      ' ', sym_coef(data) + sum_squared_dev * norm.ppf(0.95), ')')"
   ]
  },
  {
   "cell_type": "code",
   "execution_count": null,
   "metadata": {},
   "outputs": [],
   "source": []
  }
 ],
 "metadata": {
  "kernelspec": {
   "display_name": "Python 3",
   "language": "python",
   "name": "python3"
  },
  "language_info": {
   "codemirror_mode": {
    "name": "ipython",
    "version": 3
   },
   "file_extension": ".py",
   "mimetype": "text/x-python",
   "name": "python",
   "nbconvert_exporter": "python",
   "pygments_lexer": "ipython3",
   "version": "3.6.7"
  }
 },
 "nbformat": 4,
 "nbformat_minor": 2
}
